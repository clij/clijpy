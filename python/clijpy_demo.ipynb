{
 "cells": [
  {
   "cell_type": "code",
   "execution_count": null,
   "metadata": {},
   "outputs": [],
   "source": [
    "# init pyimage to get access to jar files\n",
    "import imagej\n",
    "ij = imagej.init('C:/programs/fiji-win64/Fiji.app/')\n",
    "\n",
    "# load some image data\n",
    "from skimage import io\n",
    "sk_img = io.imread('https://samples.fiji.sc/blobs.png')\n",
    "\n",
    "# init clijpy to get access to the GPU\n",
    "from jnius import autoclass\n",
    "CLIJx = autoclass('net.haesleinhuepf.clijx.CLIJx')\n",
    "clijx = CLIJx.getInstance();"
   ]
  },
  {
   "cell_type": "code",
   "execution_count": null,
   "metadata": {},
   "outputs": [],
   "source": [
    "def showImages(img1, img2):\n",
    "    vals = np.linspace(0,1,256)\n",
    "    np.random.shuffle(vals)\n",
    "    \n",
    "    # show the input and the result image\n",
    "    from matplotlib import pyplot as plt\n",
    "    cmap = plt.cm.colors.ListedColormap(plt.cm.jet(vals))\n",
    "    plt.subplot(121)\n",
    "    plt.imshow(img1)\n",
    "    plt.subplot(122)\n",
    "    plt.imshow(img2, cmap=cmap, vmin=0, vmax=65)\n",
    "    plt.show()"
   ]
  },
  {
   "cell_type": "code",
   "execution_count": null,
   "metadata": {},
   "outputs": [],
   "source": [
    "\n",
    "# convert and array to an ImageJ2 img:\n",
    "import numpy as np\n",
    "np_arr = np.array(sk_img)\n",
    "ij_img = ij.py.to_java(np_arr)\n",
    "\n",
    "# push the image to the GPU\n",
    "input8 = clijx.push(ij_img)\n",
    "input = clijx.create(input8.getDimensions())\n",
    "clijx.copy(input8, input)"
   ]
  },
  {
   "cell_type": "code",
   "execution_count": null,
   "metadata": {},
   "outputs": [],
   "source": [
    "# reserve memory for output, same size and type as input\n",
    "blurred = clijx.create(input);\n",
    "thresholded = clijx.create(input);\n",
    "labelled = clijx.create(input);\n",
    "labelled_without_edges = clijx.create(input);"
   ]
  },
  {
   "cell_type": "code",
   "execution_count": null,
   "metadata": {},
   "outputs": [],
   "source": [
    "# blur, threshold and label the image\n",
    "clijx.blur(input, blurred, 5, 5, 0);\n",
    "clijx.automatic_threshold(blurred, thresholded, \"Otsu\");\n",
    "clijx.connected_components_labeling(thresholded, labelled);\n",
    "clijx.exclude_labels_on_edges(labelled, labelled_without_edges);"
   ]
  },
  {
   "cell_type": "code",
   "execution_count": null,
   "metadata": {},
   "outputs": [],
   "source": [
    "# pull image back from GPU\n",
    "RandomAccessibleInterval = autoclass('net.imglib2.RandomAccessibleInterval');\n",
    "ij_img_result = clijx.convert(labelled_without_edges, RandomAccessibleInterval);\n",
    "imageplus_result = clijx.pull(labelled_without_edges);\n",
    "# \n",
    "# convert to numpy/python\n",
    "import time\n",
    "def getTime():\n",
    "    return int(round(time.time() * 1000))\n",
    "\n",
    "def clijx_pull(buffer):\n",
    "    import numpy\n",
    "    numpy_image = numpy.zeros([buffer.getWidth(), buffer.getHeight(), buffer.getDepth()])\n",
    "    wrapped = ij.py.to_java(numpy_image);\n",
    "    clijx.pullToRAI(buffer, wrapped);\n",
    "    return numpy_image\n",
    "\n",
    "print(\"Pull to RAI\");\n",
    "millis = getTime();\n",
    "np_arr_result = clijx_pull(labelled_without_edges);\n",
    "print (getTime() - millis)\n",
    "\n",
    "print(\"Img conversion\");\n",
    "millis = getTime();\n",
    "np_arr_result = ij.py.rai_to_numpy(ij_img_result);\n",
    "print (getTime() - millis)\n",
    "\n",
    "# show the input and the result image\n",
    "showImages(np_arr, np_arr_result);"
   ]
  },
  {
   "cell_type": "code",
   "execution_count": null,
   "metadata": {},
   "outputs": [],
   "source": [
    "# clean up\n",
    "input.close();\n",
    "blurred.close();\n",
    "thresholded.close();\n",
    "labelled.close();\n",
    "labelled_without_edges.close();"
   ]
  },
  {
   "cell_type": "code",
   "execution_count": null,
   "metadata": {},
   "outputs": [],
   "source": []
  },
  {
   "cell_type": "code",
   "execution_count": null,
   "metadata": {},
   "outputs": [],
   "source": []
  },
  {
   "cell_type": "code",
   "execution_count": null,
   "metadata": {},
   "outputs": [],
   "source": []
  },
  {
   "cell_type": "code",
   "execution_count": null,
   "metadata": {},
   "outputs": [],
   "source": []
  }
 ],
 "metadata": {
  "kernelspec": {
   "display_name": "Python 3",
   "language": "python",
   "name": "python3"
  },
  "language_info": {
   "codemirror_mode": {
    "name": "ipython",
    "version": 3
   },
   "file_extension": ".py",
   "mimetype": "text/x-python",
   "name": "python",
   "nbconvert_exporter": "python",
   "pygments_lexer": "ipython3",
   "version": "3.7.3"
  },
  "toc": {
   "base_numbering": 1,
   "nav_menu": {},
   "number_sections": false,
   "sideBar": false,
   "skip_h1_title": false,
   "title_cell": "Table of Contents",
   "title_sidebar": "Contents",
   "toc_cell": false,
   "toc_position": {},
   "toc_section_display": false,
   "toc_window_display": false
  }
 },
 "nbformat": 4,
 "nbformat_minor": 2
}
